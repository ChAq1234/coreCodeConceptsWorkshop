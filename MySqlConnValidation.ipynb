{
 "cells": [
  {
   "cell_type": "markdown",
   "metadata": {},
   "source": [
    "## Testing Installed Libraries"
   ]
  },
  {
   "cell_type": "code",
   "execution_count": 1,
   "metadata": {},
   "outputs": [],
   "source": [
    "import mysql.connector\n",
    "import pandas as pd"
   ]
  },
  {
   "cell_type": "markdown",
   "metadata": {},
   "source": [
    "## Test Connection to DB"
   ]
  },
  {
   "cell_type": "code",
   "execution_count": 2,
   "metadata": {},
   "outputs": [],
   "source": [
    "cnx = mysql.connector.connect(user='admin', password='admin',\n",
    "                              host='127.0.0.1',\n",
    "                              database='demos')\n"
   ]
  },
  {
   "cell_type": "code",
   "execution_count": 3,
   "metadata": {},
   "outputs": [],
   "source": [
    "#Create Query\n",
    "query = \"SELECT * FROM classicmodels.customers limit 5\""
   ]
  },
  {
   "cell_type": "markdown",
   "metadata": {},
   "source": [
    "## MySql Connector Only"
   ]
  },
  {
   "cell_type": "code",
   "execution_count": 4,
   "metadata": {},
   "outputs": [],
   "source": [
    "#Create 'cursor' object for iteration over records\n",
    "cursor = cnx.cursor()"
   ]
  },
  {
   "cell_type": "code",
   "execution_count": 5,
   "metadata": {},
   "outputs": [],
   "source": [
    "#Fill cursor with query results\n",
    "cursor.execute(query)"
   ]
  },
  {
   "cell_type": "code",
   "execution_count": 6,
   "metadata": {},
   "outputs": [
    {
     "name": "stdout",
     "output_type": "stream",
     "text": [
      "[(103, u'Atelier graphique', u'Schmitt', u'Carine ', u'40.32.2555', u'54, rue Royale', None, u'Nantes', None, u'44000', u'France', 1370, Decimal('21000.00')), (112, u'Signal Gift Stores', u'King', u'Jean', u'7025551838', u'8489 Strong St.', None, u'Las Vegas', u'NV', u'83030', u'USA', 1166, Decimal('71800.00')), (114, u'Australian Collectors, Co.', u'Ferguson', u'Peter', u'03 9520 4555', u'636 St Kilda Road', u'Level 3', u'Melbourne', u'Victoria', u'3004', u'Australia', 1611, Decimal('117300.00')), (119, u'La Rochelle Gifts', u'Labrune', u'Janine ', u'40.67.8555', u'67, rue des Cinquante Otages', None, u'Nantes', None, u'44000', u'France', 1370, Decimal('118200.00')), (121, u'Baane Mini Imports', u'Bergulfsen', u'Jonas ', u'07-98 9555', u'Erling Skakkes gate 78', None, u'Stavern', None, u'4110', u'Norway', 1504, Decimal('81700.00'))]\n"
     ]
    }
   ],
   "source": [
    "#Use either fetchall method or looping operations to iterate over cursor data\n",
    "print cursor.fetchall()"
   ]
  },
  {
   "cell_type": "code",
   "execution_count": 7,
   "metadata": {},
   "outputs": [],
   "source": [
    "cnx.close()"
   ]
  },
  {
   "cell_type": "markdown",
   "metadata": {},
   "source": [
    "## Using Pandas"
   ]
  },
  {
   "cell_type": "code",
   "execution_count": 8,
   "metadata": {},
   "outputs": [],
   "source": [
    "cnx = mysql.connector.connect(user='admin', password='admin',\n",
    "                              host='127.0.0.1',\n",
    "                              database='demos')"
   ]
  },
  {
   "cell_type": "code",
   "execution_count": 9,
   "metadata": {},
   "outputs": [],
   "source": [
    "#Pandas is much easier to query\n",
    "sqlDf = pd.read_sql(query,con=cnx)"
   ]
  },
  {
   "cell_type": "code",
   "execution_count": 10,
   "metadata": {},
   "outputs": [
    {
     "data": {
      "text/html": [
       "<div>\n",
       "<style scoped>\n",
       "    .dataframe tbody tr th:only-of-type {\n",
       "        vertical-align: middle;\n",
       "    }\n",
       "\n",
       "    .dataframe tbody tr th {\n",
       "        vertical-align: top;\n",
       "    }\n",
       "\n",
       "    .dataframe thead th {\n",
       "        text-align: right;\n",
       "    }\n",
       "</style>\n",
       "<table border=\"1\" class=\"dataframe\">\n",
       "  <thead>\n",
       "    <tr style=\"text-align: right;\">\n",
       "      <th></th>\n",
       "      <th>customerNumber</th>\n",
       "      <th>customerName</th>\n",
       "      <th>contactLastName</th>\n",
       "      <th>contactFirstName</th>\n",
       "      <th>phone</th>\n",
       "      <th>addressLine1</th>\n",
       "      <th>addressLine2</th>\n",
       "      <th>city</th>\n",
       "      <th>state</th>\n",
       "      <th>postalCode</th>\n",
       "      <th>country</th>\n",
       "      <th>salesRepEmployeeNumber</th>\n",
       "      <th>creditLimit</th>\n",
       "    </tr>\n",
       "  </thead>\n",
       "  <tbody>\n",
       "    <tr>\n",
       "      <th>0</th>\n",
       "      <td>103</td>\n",
       "      <td>Atelier graphique</td>\n",
       "      <td>Schmitt</td>\n",
       "      <td>Carine</td>\n",
       "      <td>40.32.2555</td>\n",
       "      <td>54, rue Royale</td>\n",
       "      <td>None</td>\n",
       "      <td>Nantes</td>\n",
       "      <td>None</td>\n",
       "      <td>44000</td>\n",
       "      <td>France</td>\n",
       "      <td>1370</td>\n",
       "      <td>21000.0</td>\n",
       "    </tr>\n",
       "    <tr>\n",
       "      <th>1</th>\n",
       "      <td>112</td>\n",
       "      <td>Signal Gift Stores</td>\n",
       "      <td>King</td>\n",
       "      <td>Jean</td>\n",
       "      <td>7025551838</td>\n",
       "      <td>8489 Strong St.</td>\n",
       "      <td>None</td>\n",
       "      <td>Las Vegas</td>\n",
       "      <td>NV</td>\n",
       "      <td>83030</td>\n",
       "      <td>USA</td>\n",
       "      <td>1166</td>\n",
       "      <td>71800.0</td>\n",
       "    </tr>\n",
       "    <tr>\n",
       "      <th>2</th>\n",
       "      <td>114</td>\n",
       "      <td>Australian Collectors, Co.</td>\n",
       "      <td>Ferguson</td>\n",
       "      <td>Peter</td>\n",
       "      <td>03 9520 4555</td>\n",
       "      <td>636 St Kilda Road</td>\n",
       "      <td>Level 3</td>\n",
       "      <td>Melbourne</td>\n",
       "      <td>Victoria</td>\n",
       "      <td>3004</td>\n",
       "      <td>Australia</td>\n",
       "      <td>1611</td>\n",
       "      <td>117300.0</td>\n",
       "    </tr>\n",
       "  </tbody>\n",
       "</table>\n",
       "</div>"
      ],
      "text/plain": [
       "   customerNumber                customerName contactLastName  \\\n",
       "0             103           Atelier graphique         Schmitt   \n",
       "1             112          Signal Gift Stores            King   \n",
       "2             114  Australian Collectors, Co.        Ferguson   \n",
       "\n",
       "  contactFirstName         phone       addressLine1 addressLine2       city  \\\n",
       "0          Carine     40.32.2555     54, rue Royale         None     Nantes   \n",
       "1             Jean    7025551838    8489 Strong St.         None  Las Vegas   \n",
       "2            Peter  03 9520 4555  636 St Kilda Road      Level 3  Melbourne   \n",
       "\n",
       "      state postalCode    country  salesRepEmployeeNumber  creditLimit  \n",
       "0      None      44000     France                    1370      21000.0  \n",
       "1        NV      83030        USA                    1166      71800.0  \n",
       "2  Victoria       3004  Australia                    1611     117300.0  "
      ]
     },
     "execution_count": 10,
     "metadata": {},
     "output_type": "execute_result"
    }
   ],
   "source": [
    "#Results are easier to view\n",
    "#'head' is operation to print first n rows\n",
    "sqlDf.head(3)"
   ]
  },
  {
   "cell_type": "code",
   "execution_count": 6,
   "metadata": {},
   "outputs": [],
   "source": [
    "cnx.close()"
   ]
  }
 ],
 "metadata": {
  "kernelspec": {
   "display_name": "Python 2",
   "language": "python",
   "name": "python2"
  },
  "language_info": {
   "codemirror_mode": {
    "name": "ipython",
    "version": 2
   },
   "file_extension": ".py",
   "mimetype": "text/x-python",
   "name": "python",
   "nbconvert_exporter": "python",
   "pygments_lexer": "ipython2",
   "version": "2.7.14"
  }
 },
 "nbformat": 4,
 "nbformat_minor": 2
}
